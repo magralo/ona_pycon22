{
 "cells": [
  {
   "cell_type": "markdown",
   "id": "53f5cbc0-a429-430c-9013-5bf95725b54e",
   "metadata": {},
   "source": [
    "# Load packages"
   ]
  },
  {
   "cell_type": "code",
   "execution_count": 6,
   "id": "b464b401-d362-4cdb-bed8-a37f58d90cea",
   "metadata": {},
   "outputs": [],
   "source": [
    "import pandas as pd\n",
    "import networkx as nx\n",
    "import numpy as np\n",
    "import os\n",
    "current_path = os.getcwd()"
   ]
  },
  {
   "cell_type": "markdown",
   "id": "1c5b2e8a-dc80-4142-ad05-8e706c8906e7",
   "metadata": {},
   "source": [
    "# Visualize data format"
   ]
  },
  {
   "cell_type": "code",
   "execution_count": 7,
   "id": "a8b34a36-0200-49e1-a5b2-6a3d75699711",
   "metadata": {},
   "outputs": [
    {
     "data": {
      "text/html": [
       "<div>\n",
       "<style scoped>\n",
       "    .dataframe tbody tr th:only-of-type {\n",
       "        vertical-align: middle;\n",
       "    }\n",
       "\n",
       "    .dataframe tbody tr th {\n",
       "        vertical-align: top;\n",
       "    }\n",
       "\n",
       "    .dataframe thead th {\n",
       "        text-align: right;\n",
       "    }\n",
       "</style>\n",
       "<table border=\"1\" class=\"dataframe\">\n",
       "  <thead>\n",
       "    <tr style=\"text-align: right;\">\n",
       "      <th></th>\n",
       "      <th>from</th>\n",
       "      <th>to</th>\n",
       "    </tr>\n",
       "  </thead>\n",
       "  <tbody>\n",
       "    <tr>\n",
       "      <th>0</th>\n",
       "      <td>Jose</td>\n",
       "      <td>Mateo</td>\n",
       "    </tr>\n",
       "    <tr>\n",
       "      <th>1</th>\n",
       "      <td>Jose</td>\n",
       "      <td>Carlos 1</td>\n",
       "    </tr>\n",
       "    <tr>\n",
       "      <th>2</th>\n",
       "      <td>Jose</td>\n",
       "      <td>Pablo</td>\n",
       "    </tr>\n",
       "    <tr>\n",
       "      <th>3</th>\n",
       "      <td>Jose</td>\n",
       "      <td>Deisy</td>\n",
       "    </tr>\n",
       "    <tr>\n",
       "      <th>4</th>\n",
       "      <td>Mateo</td>\n",
       "      <td>Camila</td>\n",
       "    </tr>\n",
       "  </tbody>\n",
       "</table>\n",
       "</div>"
      ],
      "text/plain": [
       "    from        to\n",
       "0   Jose     Mateo\n",
       "1   Jose  Carlos 1\n",
       "2   Jose     Pablo\n",
       "3   Jose     Deisy\n",
       "4  Mateo    Camila"
      ]
     },
     "execution_count": 7,
     "metadata": {},
     "output_type": "execute_result"
    }
   ],
   "source": [
    "org_chart = pd.read_csv('org_chart.csv')\n",
    "org_chart.head()"
   ]
  },
  {
   "cell_type": "markdown",
   "id": "e24d3b44-57ed-4322-81c9-b286f8f0e467",
   "metadata": {},
   "source": [
    "# Organizational chart (ONA 1.0)"
   ]
  },
  {
   "cell_type": "code",
   "execution_count": 8,
   "id": "b9e21842-a0d9-41a3-9015-5ddb19bf01e2",
   "metadata": {},
   "outputs": [
    {
     "data": {
      "text/html": [
       "\n",
       "        <iframe\n",
       "            width=\"700px\"\n",
       "            height=\"700px\"\n",
       "            src=\"org_chart.html\"\n",
       "            frameborder=\"0\"\n",
       "            allowfullscreen\n",
       "            \n",
       "        ></iframe>\n",
       "        "
      ],
      "text/plain": [
       "<IPython.lib.display.IFrame at 0x2822db76470>"
      ]
     },
     "execution_count": 8,
     "metadata": {},
     "output_type": "execute_result"
    }
   ],
   "source": [
    "from pyvis.network import Network\n",
    "\n",
    "\n",
    "G=nx.from_pandas_edgelist(org_chart, 'to', 'from',create_using=nx.DiGraph())\n",
    "#G=nx.from_pandas_edgelist(org_chart, 'to', 'from')\n",
    "\n",
    "nt = Network('700px', '700px', directed = True, notebook=True)\n",
    "# populates the nodes and edges data structures\n",
    "nt.from_nx(G)\n",
    "nt.show('org_chart.html')"
   ]
  },
  {
   "cell_type": "markdown",
   "id": "f3deee1e-80ae-42ec-bc23-b13825d3255f",
   "metadata": {},
   "source": [
    "\n",
    "# Pagerank with bidirectional comunication\n",
    "\n",
    "The most important nodes for the information flow are the mid leaders!!"
   ]
  },
  {
   "cell_type": "code",
   "execution_count": 9,
   "id": "9e19e887-7452-4500-a75f-17116094bd16",
   "metadata": {},
   "outputs": [
    {
     "data": {
      "text/html": [
       "\n",
       "        <iframe\n",
       "            width=\"500px\"\n",
       "            height=\"500px\"\n",
       "            src=\"org_chart_pagerank.html\"\n",
       "            frameborder=\"0\"\n",
       "            allowfullscreen\n",
       "            \n",
       "        ></iframe>\n",
       "        "
      ],
      "text/plain": [
       "<IPython.lib.display.IFrame at 0x28243d821d0>"
      ]
     },
     "execution_count": 9,
     "metadata": {},
     "output_type": "execute_result"
    }
   ],
   "source": [
    "\n",
    "#G=nx.from_pandas_edgelist(org_chart, 'to', 'from',create_using=nx.DiGraph())\n",
    "G=nx.from_pandas_edgelist(org_chart, 'to', 'from')\n",
    "pagerank =  nx.pagerank(G,max_iter=500)\n",
    "a = min(list(pagerank.values()))\n",
    "b = max(list(pagerank.values()))\n",
    "for i in pagerank.keys():\n",
    "    aux = (np.exp((pagerank[i]-a)/(b-a))+2)**2.5\n",
    "    aux = (1+pagerank[i])**20\n",
    "    G.nodes[i]['size'] = aux\n",
    "    G.nodes[i]['title'] = str(pagerank[i])\n",
    "    \n",
    "nt = Network('500px', '500px', directed = False, notebook=True)\n",
    "# populates the nodes and edges data structures\n",
    "nt.from_nx(G)\n",
    "nt.show('org_chart_pagerank.html')"
   ]
  },
  {
   "cell_type": "markdown",
   "id": "a981e1cb-beb0-4f0f-b935-e83491f3aba3",
   "metadata": {},
   "source": [
    "# Pagerank with top down flow\n",
    "\n",
    "The most important is the biggest boss"
   ]
  },
  {
   "cell_type": "code",
   "execution_count": 10,
   "id": "eb9cf224-7f04-4731-a145-933089cfd1d8",
   "metadata": {},
   "outputs": [
    {
     "data": {
      "text/html": [
       "\n",
       "        <iframe\n",
       "            width=\"500px\"\n",
       "            height=\"500px\"\n",
       "            src=\"org_chart_pagerank.html\"\n",
       "            frameborder=\"0\"\n",
       "            allowfullscreen\n",
       "            \n",
       "        ></iframe>\n",
       "        "
      ],
      "text/plain": [
       "<IPython.lib.display.IFrame at 0x28243d9a410>"
      ]
     },
     "execution_count": 10,
     "metadata": {},
     "output_type": "execute_result"
    }
   ],
   "source": [
    "G=nx.from_pandas_edgelist(org_chart, 'to', 'from',create_using=nx.DiGraph())\n",
    "pagerank =  nx.pagerank(G,max_iter=500)\n",
    "a = min(list(pagerank.values()))\n",
    "b = max(list(pagerank.values()))\n",
    "for i in pagerank.keys():\n",
    "    aux = np.exp((pagerank[i]-a)/(b-a))*10\n",
    "    aux = (1+pagerank[i])**15\n",
    "    G.nodes[i]['size'] = aux\n",
    "    G.nodes[i]['title'] = str(pagerank[i])\n",
    "    \n",
    "nt = Network('500px', '500px', directed = False, notebook=True)\n",
    "# populates the nodes and edges data structures\n",
    "nt.from_nx(G)\n",
    "nt.show('org_chart_pagerank.html')"
   ]
  },
  {
   "cell_type": "markdown",
   "id": "5725a0f7-b15d-4803-8d6b-8ac5f801dc40",
   "metadata": {},
   "source": [
    "# Bet Centrality in bidirectional networks "
   ]
  },
  {
   "cell_type": "code",
   "execution_count": 11,
   "id": "889eb8c3-7bb1-46aa-ad62-e90cf2b781da",
   "metadata": {},
   "outputs": [
    {
     "data": {
      "text/html": [
       "\n",
       "        <iframe\n",
       "            width=\"700px\"\n",
       "            height=\"700px\"\n",
       "            src=\"org_chart_bc.html\"\n",
       "            frameborder=\"0\"\n",
       "            allowfullscreen\n",
       "            \n",
       "        ></iframe>\n",
       "        "
      ],
      "text/plain": [
       "<IPython.lib.display.IFrame at 0x28243d929b0>"
      ]
     },
     "execution_count": 11,
     "metadata": {},
     "output_type": "execute_result"
    }
   ],
   "source": [
    "\n",
    "\n",
    "G=nx.from_pandas_edgelist(org_chart, 'to', 'from')\n",
    "\n",
    "\n",
    "betweenness_centrality = nx.algorithms.centrality.betweenness_centrality(G, k=None)\n",
    "\n",
    "a = min(list(betweenness_centrality.values()))\n",
    "b = max(list(betweenness_centrality.values()))\n",
    "for i in betweenness_centrality.keys():\n",
    "    aux = np.exp((betweenness_centrality[i]-a)/(b-a))*10\n",
    "    aux = (1+pagerank[i])**15\n",
    "    G.nodes[i]['size'] = aux\n",
    "    G.nodes[i]['title'] = str(betweenness_centrality[i])\n",
    "    \n",
    "nt = Network('700px', '700px', directed = False, notebook=True)\n",
    "# populates the nodes and edges data structures\n",
    "nt.from_nx(G)\n",
    "nt.show('org_chart_bc.html')"
   ]
  },
  {
   "cell_type": "markdown",
   "id": "652acf35-cbc9-43bb-9571-3319c7b94076",
   "metadata": {},
   "source": [
    "# With topdown directions\n",
    "\n",
    "Again... the only bridge would be the big boss"
   ]
  },
  {
   "cell_type": "code",
   "execution_count": 12,
   "id": "923048c0-5b1b-4aa2-97c0-b97fa0aa839f",
   "metadata": {},
   "outputs": [
    {
     "data": {
      "text/html": [
       "\n",
       "        <iframe\n",
       "            width=\"700px\"\n",
       "            height=\"700px\"\n",
       "            src=\"org_chart_evc.html\"\n",
       "            frameborder=\"0\"\n",
       "            allowfullscreen\n",
       "            \n",
       "        ></iframe>\n",
       "        "
      ],
      "text/plain": [
       "<IPython.lib.display.IFrame at 0x28243d9a200>"
      ]
     },
     "execution_count": 12,
     "metadata": {},
     "output_type": "execute_result"
    }
   ],
   "source": [
    "\n",
    "\n",
    "\n",
    "G=nx.from_pandas_edgelist(org_chart, 'to', 'from',create_using=nx.DiGraph())\n",
    "ev_centrality = nx.algorithms.centrality.eigenvector_centrality(G,max_iter=500)\n",
    "a = min(list(ev_centrality.values()))\n",
    "b = max(list(ev_centrality.values()))\n",
    "for i in ev_centrality.keys():\n",
    "    aux = np.exp((ev_centrality[i]-a)/(b-a))*10\n",
    "    aux = (1+pagerank[i])**15\n",
    "    G.nodes[i]['size'] = aux\n",
    "    G.nodes[i]['title'] = str(ev_centrality[i])\n",
    "    \n",
    "nt = Network('700px', '700px', directed = False, notebook=True)\n",
    "# populates the nodes and edges data structures\n",
    "nt.from_nx(G)\n",
    "nt.show('org_chart_evc.html')"
   ]
  },
  {
   "cell_type": "markdown",
   "id": "752ed52f-0b25-4aa7-a6da-bf03c6d2c91b",
   "metadata": {},
   "source": [
    "# We can learn something!\n",
    "\n",
    "With hierachical structures where the information flows towards the big manager the most important person is he or she... But when information flows both ways the most important nodes for communication tasks are the mid level managers, that means that if you want to spread a message the most effective way would be with those managers.\n",
    "\n",
    "# Example using meetings data "
   ]
  },
  {
   "cell_type": "code",
   "execution_count": 13,
   "id": "1ed121d0-3693-4bea-a525-dd59d7ca4216",
   "metadata": {},
   "outputs": [
    {
     "name": "stdout",
     "output_type": "stream",
     "text": [
      "    from        to  value\n",
      "0   Jose     Mateo     10\n",
      "1   Jose  Carlos 1      3\n",
      "2   Jose     Pablo     15\n",
      "3   Jose     Deisy      2\n",
      "4  Mateo    Camila     10\n"
     ]
    }
   ],
   "source": [
    "meetings = pd.read_csv('meetings.csv')\n",
    "meetings = meetings.rename(columns={'n_meetings':'value'})\n",
    "print(meetings.head())\n",
    "\n",
    "\n",
    "G=nx.from_pandas_edgelist(meetings, 'to', 'from',[\"value\"])\n",
    "\n",
    "\n",
    "pos = nx.spring_layout(G)\n",
    "\n",
    "\n",
    "pagerank =  nx.pagerank(G,max_iter=10000)\n",
    "a = min(list(pagerank.values()))\n",
    "b = max(list(pagerank.values()))\n",
    "for i in pagerank.keys():\n",
    "    aux = np.exp((pagerank[i]-a)/(b-a))*10\n",
    "    aux = (1+pagerank[i])**20\n",
    "    G.nodes[i]['size'] = aux\n",
    "    G.nodes[i]['title'] = str(pagerank[i])\n",
    "\n",
    "\n",
    "\n",
    "nt = Network('700px', '700px', directed = False)\n",
    "# populates the nodes and edges data structures\n",
    "nt.from_nx(G)\n",
    "\n",
    "for e in G.edges():\n",
    "    nt.add_edge(e[0],e[1], weight = e,value = e)\n",
    "\n",
    "nt.force_atlas_2based()\n",
    "nt.show('meeting_pagerank_image.html')\n"
   ]
  },
  {
   "cell_type": "markdown",
   "id": "b089c28c-b583-4933-8673-75fd01cbb1c5",
   "metadata": {},
   "source": [
    "# Create a final visual\n",
    "\n",
    "- Let us understand which are the stronger connections\n",
    "- Put the profile image (if available)\n",
    "- Set the size of the node according to the pagerank"
   ]
  },
  {
   "cell_type": "code",
   "execution_count": 14,
   "id": "ae6c44f9-2eb4-4d91-bb50-f551ee35ac14",
   "metadata": {},
   "outputs": [],
   "source": [
    "directory = pd.read_csv('directory.csv')\n",
    "directory.head()\n",
    "\n",
    "\n",
    "\n",
    "G=nx.from_pandas_edgelist(meetings, 'to', 'from',[\"value\"])\n",
    "\n",
    "\n",
    "pos = nx.spring_layout(G)\n",
    "\n",
    "\n",
    "pagerank =  nx.pagerank(G,max_iter=10000)\n",
    "a = min(list(pagerank.values()))\n",
    "b = max(list(pagerank.values()))\n",
    "for i in pagerank.keys():\n",
    "    aux = np.exp((pagerank[i]-a)/(b-a))*10\n",
    "    G.nodes[i]['size'] = aux\n",
    "    G.nodes[i]['title'] = str(pagerank[i])\n",
    "    node_image = directory.image[directory['Name']==i]\n",
    "    if not node_image.isnull().iloc[0]:\n",
    "        node_image = node_image.iloc[0]\n",
    "        G.nodes[i]['shape'] = 'image'\n",
    "        G.nodes[i]['image']= f'file://{current_path}/{node_image}'\n",
    "\n",
    "\n",
    "nt = Network('700px', '700px', directed = False)\n",
    "# populates the nodes and edges data structures\n",
    "nt.from_nx(G)\n",
    "\n",
    "for e in G.edges():\n",
    "    nt.add_edge(e[0],e[1], weight = e,value = e)\n",
    "\n",
    "nt.force_atlas_2based()\n",
    "nt.show('meeting_pagerank_image.html')"
   ]
  },
  {
   "cell_type": "markdown",
   "id": "50b9defc-0c8d-4454-b93b-27930c39d006",
   "metadata": {},
   "source": [
    "# Wrapping the whole code"
   ]
  },
  {
   "cell_type": "code",
   "execution_count": 15,
   "id": "046d7522-3a78-4d3c-a914-0d4470c6d78e",
   "metadata": {},
   "outputs": [],
   "source": [
    "from networkx import pagerank\n",
    "from networkx.algorithms.centrality import eigenvector_centrality,betweenness_centrality\n",
    "\n",
    "\n",
    "def set_title(df,value, metric):\n",
    "    title = df.Name.iloc[0] + ' <br> '\n",
    "    title = title + f'{metric} {value}'\n",
    "    return title\n",
    "\n",
    "def build_ona(nodes,interactions,metric, size_function = lambda x: (x+1)**15):\n",
    "    assert 'Name' in nodes.columns\n",
    "    assert 'image' in nodes.columns\n",
    "    assert 'from' in interactions.columns\n",
    "    assert 'to' in interactions.columns\n",
    "    assert 'value' in interactions.columns\n",
    "    assert metric in ['pagerank', 'ev_centrality', 'bt_centrality']\n",
    "    \n",
    "    print(interactions.head())\n",
    "    G = nx.from_pandas_edgelist(interactions, 'to', 'from',[\"value\"])\n",
    "      \n",
    "    if metric=='pagerank':\n",
    "        sizes =  pagerank(G,max_iter=10000,weight='value')\n",
    "    elif metric=='ev_centrality':\n",
    "        sizes =  eigenvector_centrality(G,max_iter=500,weight='value')\n",
    "    else:\n",
    "        sizes =  betweenness_centrality(G,weight = 'value')\n",
    "    print(G)\n",
    "    for i in sizes.keys():\n",
    "        # a function that gets a numeric value and return a numeric value...\n",
    "        # The idea is that we can experiment with different options to see\n",
    "        # which one give us the desired plot.\n",
    "        aux =size_function(sizes[i])\n",
    "        \n",
    "        G.nodes[i]['size'] = aux\n",
    "        \n",
    "        # set the title of the node... what we see when we click the node\n",
    "        G.nodes[i]['title'] = set_title(nodes[nodes['Name']==i], sizes[i],metric)\n",
    "        \n",
    "        node_image = nodes.image[nodes['Name']==i]\n",
    "        \n",
    "        if not node_image.isnull().iloc[0]:\n",
    "            # In case that we have an available image we replace the standard\n",
    "            # image with the employee photo\n",
    "            node_image = node_image.iloc[0]\n",
    "            G.nodes[i]['shape'] = 'image'\n",
    "            G.nodes[i]['image']= f'file://{current_path}/{node_image}'\n",
    "            \n",
    "            \n",
    "    nt = Network('700px', '700px', directed = False)\n",
    "\n",
    "    nt.from_nx(G)\n",
    "\n",
    "    for e in G.edges():\n",
    "        nt.add_edge(e[0],e[1], weight = e,value = e, title = e)# Set size of edge as the weight\n",
    "\n",
    "    nt.force_atlas_2based()\n",
    "            \n",
    "    \n",
    "    \n",
    "    return nt\n",
    "\n",
    "ona = build_ona(nodes=directory,interactions= meetings,metric = 'pagerank',\n",
    "               size_function = lambda x: ((x+0.1)*100))\n",
    "\n",
    "ona.show('final_ona.html')"
   ]
  },
  {
   "cell_type": "markdown",
   "id": "314187e2-a1cd-4344-a97c-fe45d37fbbd2",
   "metadata": {},
   "source": [
    "# Now... what can we do?\n",
    "\n",
    "First of all we can see our organization with a simple graph.\n",
    "\n",
    "But we can also check for some amazing correlations such as:\n",
    "\n",
    "- PageRank and promotion rate\n",
    "- PageRank and Attrition rate\n",
    "\n",
    "Among others\n",
    "\n",
    "# Let's see some NA with more \"realistic\" data"
   ]
  },
  {
   "cell_type": "code",
   "execution_count": 31,
   "id": "2bc6952e-d211-4d3e-8ee8-d426b9d4eb85",
   "metadata": {},
   "outputs": [],
   "source": [
    "\n"
   ]
  },
  {
   "cell_type": "code",
   "execution_count": 35,
   "id": "bb83cb41-0701-4157-bbf2-0c911a30e1e4",
   "metadata": {},
   "outputs": [
    {
     "name": "stdout",
     "output_type": "stream",
     "text": [
      "             from                to  value\n",
      "0  Addam-Marbrand     Brynden-Tully      3\n",
      "1  Addam-Marbrand  Cersei-Lannister      3\n",
      "2  Addam-Marbrand       Gyles-Rosby      3\n",
      "3  Addam-Marbrand   Jaime-Lannister     14\n",
      "4  Addam-Marbrand      Jalabhar-Xho      3\n",
      "Graph with 796 nodes and 2823 edges\n"
     ]
    }
   ],
   "source": [
    "from pyvis.network import Network\n",
    "import pandas as pd\n",
    "\n",
    "edges = pd.read_csv('got_edges.csv')[['Source','Target', 'weight']]\n",
    "\n",
    "edges.columns = ['from','to', 'value']\n",
    "\n",
    "#edges = edges.query('value>10')\n",
    "\n",
    "got_nodes = pd.read_csv('got_nodes.csv')\n",
    "\n",
    "got_nodes = got_nodes.rename(columns={'Id':'Name'})\n",
    "\n",
    "got_nodes['image'] = np.nan\n",
    "\n",
    "got = build_ona(nodes=got_nodes,interactions= edges,metric = 'ev_centrality',\n",
    "               size_function = lambda x: ((x+0.1)*100))\n",
    "\n",
    "got.show('final_got.html')"
   ]
  },
  {
   "cell_type": "code",
   "execution_count": null,
   "id": "8b724520-ecf0-4a83-82a1-a355c7e7ab84",
   "metadata": {},
   "outputs": [],
   "source": [
    "got_edges.value.sum()"
   ]
  },
  {
   "cell_type": "code",
   "execution_count": null,
   "id": "798e8b2e-0f60-4b97-a58a-2019cb43d47d",
   "metadata": {},
   "outputs": [],
   "source": []
  }
 ],
 "metadata": {
  "kernelspec": {
   "display_name": "Python 3 (ipykernel)",
   "language": "python",
   "name": "python3"
  },
  "language_info": {
   "codemirror_mode": {
    "name": "ipython",
    "version": 3
   },
   "file_extension": ".py",
   "mimetype": "text/x-python",
   "name": "python",
   "nbconvert_exporter": "python",
   "pygments_lexer": "ipython3",
   "version": "3.10.4"
  }
 },
 "nbformat": 4,
 "nbformat_minor": 5
}
