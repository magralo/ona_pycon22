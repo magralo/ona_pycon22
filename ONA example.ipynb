{
 "cells": [
  {
   "cell_type": "markdown",
   "id": "53f5cbc0-a429-430c-9013-5bf95725b54e",
   "metadata": {},
   "source": [
    "# Load packages"
   ]
  },
  {
   "cell_type": "code",
   "execution_count": 1,
   "id": "b464b401-d362-4cdb-bed8-a37f58d90cea",
   "metadata": {},
   "outputs": [],
   "source": [
    "import pandas as pd\n",
    "import networkx as nx\n",
    "import numpy as np\n",
    "import os\n",
    "current_path = os.getcwd()"
   ]
  },
  {
   "cell_type": "markdown",
   "id": "1c5b2e8a-dc80-4142-ad05-8e706c8906e7",
   "metadata": {},
   "source": [
    "# Visualize data format"
   ]
  },
  {
   "cell_type": "code",
   "execution_count": 2,
   "id": "a8b34a36-0200-49e1-a5b2-6a3d75699711",
   "metadata": {},
   "outputs": [
    {
     "data": {
      "text/html": [
       "<div>\n",
       "<style scoped>\n",
       "    .dataframe tbody tr th:only-of-type {\n",
       "        vertical-align: middle;\n",
       "    }\n",
       "\n",
       "    .dataframe tbody tr th {\n",
       "        vertical-align: top;\n",
       "    }\n",
       "\n",
       "    .dataframe thead th {\n",
       "        text-align: right;\n",
       "    }\n",
       "</style>\n",
       "<table border=\"1\" class=\"dataframe\">\n",
       "  <thead>\n",
       "    <tr style=\"text-align: right;\">\n",
       "      <th></th>\n",
       "      <th>from</th>\n",
       "      <th>to</th>\n",
       "    </tr>\n",
       "  </thead>\n",
       "  <tbody>\n",
       "    <tr>\n",
       "      <th>0</th>\n",
       "      <td>Jose</td>\n",
       "      <td>Mateo</td>\n",
       "    </tr>\n",
       "    <tr>\n",
       "      <th>1</th>\n",
       "      <td>Jose</td>\n",
       "      <td>Carlos 1</td>\n",
       "    </tr>\n",
       "    <tr>\n",
       "      <th>2</th>\n",
       "      <td>Jose</td>\n",
       "      <td>Pablo</td>\n",
       "    </tr>\n",
       "    <tr>\n",
       "      <th>3</th>\n",
       "      <td>Jose</td>\n",
       "      <td>Deisy</td>\n",
       "    </tr>\n",
       "    <tr>\n",
       "      <th>4</th>\n",
       "      <td>Mateo</td>\n",
       "      <td>Camila</td>\n",
       "    </tr>\n",
       "  </tbody>\n",
       "</table>\n",
       "</div>"
      ],
      "text/plain": [
       "    from        to\n",
       "0   Jose     Mateo\n",
       "1   Jose  Carlos 1\n",
       "2   Jose     Pablo\n",
       "3   Jose     Deisy\n",
       "4  Mateo    Camila"
      ]
     },
     "execution_count": 2,
     "metadata": {},
     "output_type": "execute_result"
    }
   ],
   "source": [
    "org_chart = pd.read_csv('org_chart.csv')\n",
    "org_chart.head()"
   ]
  },
  {
   "cell_type": "markdown",
   "id": "e24d3b44-57ed-4322-81c9-b286f8f0e467",
   "metadata": {},
   "source": [
    "# Organizational chart (ONA 1.0)"
   ]
  },
  {
   "cell_type": "code",
   "execution_count": 27,
   "id": "b9e21842-a0d9-41a3-9015-5ddb19bf01e2",
   "metadata": {},
   "outputs": [
    {
     "data": {
      "text/html": [
       "\n",
       "        <iframe\n",
       "            width=\"700px\"\n",
       "            height=\"700px\"\n",
       "            src=\"org_chart.html\"\n",
       "            frameborder=\"0\"\n",
       "            allowfullscreen\n",
       "            \n",
       "        ></iframe>\n",
       "        "
      ],
      "text/plain": [
       "<IPython.lib.display.IFrame at 0x1e7a63dc0a0>"
      ]
     },
     "execution_count": 27,
     "metadata": {},
     "output_type": "execute_result"
    }
   ],
   "source": [
    "from pyvis.network import Network\n",
    "\n",
    "\n",
    "G=nx.from_pandas_edgelist(org_chart, 'to', 'from',create_using=nx.DiGraph())\n",
    "G=nx.from_pandas_edgelist(org_chart, 'to', 'from')\n",
    "\n",
    "nt = Network('700px', '700px', directed = False, notebook=True)\n",
    "# populates the nodes and edges data structures\n",
    "nt.from_nx(G)\n",
    "nt.show('org_chart.html')"
   ]
  },
  {
   "cell_type": "code",
   "execution_count": 29,
   "id": "27e2d1f5-d108-4a32-b499-c23bbc87e080",
   "metadata": {},
   "outputs": [
    {
     "name": "stdout",
     "output_type": "stream",
     "text": [
      "Collecting pydot\n",
      "  Downloading pydot-1.4.2-py2.py3-none-any.whl (21 kB)\n",
      "Requirement already satisfied: pyparsing>=2.1.4 in c:\\users\\user\\anaconda3\\envs\\onapycon22\\lib\\site-packages (from pydot) (3.0.9)\n",
      "Installing collected packages: pydot\n",
      "Successfully installed pydot-1.4.2\n"
     ]
    }
   ],
   "source": [
    "!pip install pydot"
   ]
  },
  {
   "cell_type": "markdown",
   "id": "f3deee1e-80ae-42ec-bc23-b13825d3255f",
   "metadata": {},
   "source": [
    "\n",
    "# Pagerank with bidirectional comunication\n",
    "\n",
    "The most important nodes for the information flow are the mid leaders!!"
   ]
  },
  {
   "cell_type": "code",
   "execution_count": 20,
   "id": "9e19e887-7452-4500-a75f-17116094bd16",
   "metadata": {},
   "outputs": [
    {
     "data": {
      "text/html": [
       "\n",
       "        <iframe\n",
       "            width=\"500px\"\n",
       "            height=\"500px\"\n",
       "            src=\"org_chart_pagerank.html\"\n",
       "            frameborder=\"0\"\n",
       "            allowfullscreen\n",
       "            \n",
       "        ></iframe>\n",
       "        "
      ],
      "text/plain": [
       "<IPython.lib.display.IFrame at 0x1e78fff8730>"
      ]
     },
     "execution_count": 20,
     "metadata": {},
     "output_type": "execute_result"
    }
   ],
   "source": [
    "\n",
    "#G=nx.from_pandas_edgelist(org_chart, 'to', 'from',create_using=nx.DiGraph())\n",
    "G=nx.from_pandas_edgelist(org_chart, 'to', 'from')\n",
    "pagerank =  nx.pagerank(G,max_iter=500)\n",
    "a = min(list(pagerank.values()))\n",
    "b = max(list(pagerank.values()))\n",
    "for i in pagerank.keys():\n",
    "    aux = (np.exp((pagerank[i]-a)/(b-a))+2)**2.5\n",
    "    aux = (1+pagerank[i])**20\n",
    "    G.nodes[i]['size'] = aux\n",
    "    G.nodes[i]['title'] = str(pagerank[i])\n",
    "    \n",
    "nt = Network('500px', '500px', directed = False, notebook=True)\n",
    "# populates the nodes and edges data structures\n",
    "nt.from_nx(G)\n",
    "nt.show('org_chart_pagerank.html')"
   ]
  },
  {
   "cell_type": "markdown",
   "id": "a981e1cb-beb0-4f0f-b935-e83491f3aba3",
   "metadata": {},
   "source": [
    "# Pagerank with top down flow\n",
    "\n",
    "The most important is the biggest boss"
   ]
  },
  {
   "cell_type": "code",
   "execution_count": 22,
   "id": "eb9cf224-7f04-4731-a145-933089cfd1d8",
   "metadata": {},
   "outputs": [
    {
     "data": {
      "text/html": [
       "\n",
       "        <iframe\n",
       "            width=\"500px\"\n",
       "            height=\"500px\"\n",
       "            src=\"org_chart_pagerank.html\"\n",
       "            frameborder=\"0\"\n",
       "            allowfullscreen\n",
       "            \n",
       "        ></iframe>\n",
       "        "
      ],
      "text/plain": [
       "<IPython.lib.display.IFrame at 0x1e78fff8dc0>"
      ]
     },
     "execution_count": 22,
     "metadata": {},
     "output_type": "execute_result"
    }
   ],
   "source": [
    "G=nx.from_pandas_edgelist(org_chart, 'to', 'from',create_using=nx.DiGraph())\n",
    "pagerank =  nx.pagerank(G,max_iter=500)\n",
    "a = min(list(pagerank.values()))\n",
    "b = max(list(pagerank.values()))\n",
    "for i in pagerank.keys():\n",
    "    aux = np.exp((pagerank[i]-a)/(b-a))*10\n",
    "    aux = (1+pagerank[i])**15\n",
    "    G.nodes[i]['size'] = aux\n",
    "    G.nodes[i]['title'] = str(pagerank[i])\n",
    "    \n",
    "nt = Network('500px', '500px', directed = False, notebook=True)\n",
    "# populates the nodes and edges data structures\n",
    "nt.from_nx(G)\n",
    "nt.show('org_chart_pagerank.html')"
   ]
  },
  {
   "cell_type": "markdown",
   "id": "5725a0f7-b15d-4803-8d6b-8ac5f801dc40",
   "metadata": {},
   "source": [
    "# Bet Centrality in bidirectional networks "
   ]
  },
  {
   "cell_type": "code",
   "execution_count": 24,
   "id": "889eb8c3-7bb1-46aa-ad62-e90cf2b781da",
   "metadata": {},
   "outputs": [
    {
     "data": {
      "text/html": [
       "\n",
       "        <iframe\n",
       "            width=\"700px\"\n",
       "            height=\"700px\"\n",
       "            src=\"org_chart_bc.html\"\n",
       "            frameborder=\"0\"\n",
       "            allowfullscreen\n",
       "            \n",
       "        ></iframe>\n",
       "        "
      ],
      "text/plain": [
       "<IPython.lib.display.IFrame at 0x1e7a63c2140>"
      ]
     },
     "execution_count": 24,
     "metadata": {},
     "output_type": "execute_result"
    }
   ],
   "source": [
    "\n",
    "\n",
    "G=nx.from_pandas_edgelist(org_chart, 'to', 'from')\n",
    "\n",
    "\n",
    "betweenness_centrality = nx.algorithms.centrality.betweenness_centrality(G, k=None)\n",
    "\n",
    "a = min(list(betweenness_centrality.values()))\n",
    "b = max(list(betweenness_centrality.values()))\n",
    "for i in betweenness_centrality.keys():\n",
    "    aux = np.exp((betweenness_centrality[i]-a)/(b-a))*10\n",
    "    aux = (1+pagerank[i])**15\n",
    "    G.nodes[i]['size'] = aux\n",
    "    G.nodes[i]['title'] = str(betweenness_centrality[i])\n",
    "    \n",
    "nt = Network('700px', '700px', directed = False, notebook=True)\n",
    "# populates the nodes and edges data structures\n",
    "nt.from_nx(G)\n",
    "nt.show('org_chart_bc.html')"
   ]
  },
  {
   "cell_type": "markdown",
   "id": "652acf35-cbc9-43bb-9571-3319c7b94076",
   "metadata": {},
   "source": [
    "# With topdown directions\n",
    "\n",
    "Again... the only bridge would be the big boss"
   ]
  },
  {
   "cell_type": "code",
   "execution_count": 26,
   "id": "923048c0-5b1b-4aa2-97c0-b97fa0aa839f",
   "metadata": {},
   "outputs": [
    {
     "data": {
      "text/html": [
       "\n",
       "        <iframe\n",
       "            width=\"700px\"\n",
       "            height=\"700px\"\n",
       "            src=\"org_chart_evc.html\"\n",
       "            frameborder=\"0\"\n",
       "            allowfullscreen\n",
       "            \n",
       "        ></iframe>\n",
       "        "
      ],
      "text/plain": [
       "<IPython.lib.display.IFrame at 0x1e7a63cb430>"
      ]
     },
     "execution_count": 26,
     "metadata": {},
     "output_type": "execute_result"
    }
   ],
   "source": [
    "\n",
    "\n",
    "\n",
    "G=nx.from_pandas_edgelist(org_chart, 'to', 'from',create_using=nx.DiGraph())\n",
    "ev_centrality = nx.algorithms.centrality.eigenvector_centrality(G,max_iter=500)\n",
    "a = min(list(ev_centrality.values()))\n",
    "b = max(list(ev_centrality.values()))\n",
    "for i in ev_centrality.keys():\n",
    "    aux = np.exp((ev_centrality[i]-a)/(b-a))*10\n",
    "    aux = (1+pagerank[i])**15\n",
    "    G.nodes[i]['size'] = aux\n",
    "    G.nodes[i]['title'] = str(ev_centrality[i])\n",
    "    \n",
    "nt = Network('700px', '700px', directed = False, notebook=True)\n",
    "# populates the nodes and edges data structures\n",
    "nt.from_nx(G)\n",
    "nt.show('org_chart_evc.html')"
   ]
  },
  {
   "cell_type": "markdown",
   "id": "752ed52f-0b25-4aa7-a6da-bf03c6d2c91b",
   "metadata": {},
   "source": [
    "# We can learn something!\n",
    "\n",
    "With hierachical structures where the information flows towards the big manager the most important person is he or she... But when information flows both ways the most important nodes for communication tasks are the mid level managers, that means that if you want to spread a message the most effective way would be with those managers.\n",
    "\n",
    "# Example using meetings data (and how to add images)"
   ]
  },
  {
   "cell_type": "code",
   "execution_count": 66,
   "id": "1ed121d0-3693-4bea-a525-dd59d7ca4216",
   "metadata": {},
   "outputs": [
    {
     "name": "stdout",
     "output_type": "stream",
     "text": [
      "    from        to  value\n",
      "0   Jose     Mateo     10\n",
      "1   Jose  Carlos 1      3\n",
      "2   Jose     Pablo     15\n",
      "3   Jose     Deisy      2\n",
      "4  Mateo    Camila     10\n"
     ]
    }
   ],
   "source": [
    "meetings = pd.read_csv('meetings.csv')\n",
    "meetings = meetings.rename(columns={'n_meetings':'value'})\n",
    "print(meetings.head())\n",
    "\n",
    "\n",
    "G=nx.from_pandas_edgelist(meetings, 'to', 'from',[\"value\"])\n",
    "\n",
    "\n",
    "pos = nx.spring_layout(G)\n",
    "\n",
    "\n",
    "pagerank =  nx.pagerank(G,max_iter=10000)\n",
    "a = min(list(pagerank.values()))\n",
    "b = max(list(pagerank.values()))\n",
    "for i in pagerank.keys():\n",
    "    aux = np.exp((pagerank[i]-a)/(b-a))*10\n",
    "    aux = (1+pagerank[i])**20\n",
    "    G.nodes[i]['size'] = aux\n",
    "    G.nodes[i]['title'] = str(pagerank[i])\n",
    "\n",
    "\n",
    "\n",
    "nt = Network('700px', '700px', directed = False)\n",
    "# populates the nodes and edges data structures\n",
    "nt.from_nx(G)\n",
    "\n",
    "for e in G.edges():\n",
    "    nt.add_edge(e[0],e[1], weight = e,value = e)\n",
    "\n",
    "nt.force_atlas_2based()\n",
    "nt.show('meeting_pagerank_image.html')\n"
   ]
  },
  {
   "cell_type": "markdown",
   "id": "b089c28c-b583-4933-8673-75fd01cbb1c5",
   "metadata": {},
   "source": [
    "# Create a final visual\n",
    "\n",
    "- Let us understand which are the stronger connections\n",
    "- Put the profile image (if available)\n",
    "- Set the size of the node according to the pagerank"
   ]
  },
  {
   "cell_type": "code",
   "execution_count": 62,
   "id": "ae6c44f9-2eb4-4d91-bb50-f551ee35ac14",
   "metadata": {},
   "outputs": [],
   "source": [
    "directory = pd.read_csv('directory.csv')\n",
    "directory.head()\n",
    "\n",
    "\n",
    "\n",
    "G=nx.from_pandas_edgelist(meetings, 'to', 'from',[\"value\"])\n",
    "\n",
    "\n",
    "pos = nx.spring_layout(G)\n",
    "\n",
    "\n",
    "pagerank =  nx.pagerank(G,max_iter=10000)\n",
    "a = min(list(pagerank.values()))\n",
    "b = max(list(pagerank.values()))\n",
    "for i in pagerank.keys():\n",
    "    aux = np.exp((pagerank[i]-a)/(b-a))*10\n",
    "    G.nodes[i]['size'] = aux\n",
    "    G.nodes[i]['title'] = str(pagerank[i])\n",
    "    node_image = directory.image[directory['Name']==i]\n",
    "    if not node_image.isnull().iloc[0]:\n",
    "        node_image = node_image.iloc[0]\n",
    "        G.nodes[i]['shape'] = 'image'\n",
    "        G.nodes[i]['image']= f'file://{current_path}/{node_image}'\n",
    "\n",
    "\n",
    "nt = Network('700px', '700px', directed = False)\n",
    "# populates the nodes and edges data structures\n",
    "nt.from_nx(G)\n",
    "\n",
    "for e in G.edges():\n",
    "    nt.add_edge(e[0],e[1], weight = e,value = e)\n",
    "\n",
    "nt.force_atlas_2based()\n",
    "nt.show('meeting_pagerank_image.html')"
   ]
  },
  {
   "cell_type": "markdown",
   "id": "50b9defc-0c8d-4454-b93b-27930c39d006",
   "metadata": {},
   "source": [
    "# Wrapping the whole code"
   ]
  },
  {
   "cell_type": "code",
   "execution_count": 99,
   "id": "046d7522-3a78-4d3c-a914-0d4470c6d78e",
   "metadata": {},
   "outputs": [],
   "source": [
    "def set_title(df,value, metric):\n",
    "    title = df.Name.iloc[0] + ' <br> '\n",
    "    title = title + f'{metric} {value}'\n",
    "    return title\n",
    "\n",
    "def build_ona(nodes,interactions,metric, size_function = lambda x: (x+1)**15):\n",
    "    assert 'Name' in nodes.columns\n",
    "    assert 'image' in nodes.columns\n",
    "    assert 'from' in interactions.columns\n",
    "    assert 'to' in interactions.columns\n",
    "    assert 'value' in interactions.columns\n",
    "    assert metric in ['pagerank', 'ev_centrality', 'bt_centrality']\n",
    "    \n",
    "    G = nx.from_pandas_edgelist(interactions, 'to', 'from',[\"value\"])\n",
    "    \n",
    "    if metric=='pagerank':\n",
    "        sizes =  nx.pagerank(G,max_iter=10000,weight='value')\n",
    "    elif metric=='ev_centrality':\n",
    "        sizes =  nx.algorithms.centrality.eigenvector_centrality(G,max_iter=500,weight='value')\n",
    "    else:\n",
    "        sizes =  nx.algorithms.centrality.betweenness_centrality(G,weight = 'value')\n",
    "\n",
    "    for i in sizes.keys():\n",
    "        aux =size_function(sizes[i])\n",
    "        \n",
    "        G.nodes[i]['size'] = aux\n",
    "\n",
    "        G.nodes[i]['title'] = set_title(directory[directory['Name']==i], sizes[i],metric)\n",
    "        \n",
    "        node_image = nodes.image[nodes['Name']==i]\n",
    "        \n",
    "        if not node_image.isnull().iloc[0]:\n",
    "            node_image = node_image.iloc[0]\n",
    "            G.nodes[i]['shape'] = 'image'\n",
    "            G.nodes[i]['image']= f'file://{current_path}/{node_image}'\n",
    "            \n",
    "            \n",
    "    nt = Network('700px', '700px', directed = False)\n",
    "\n",
    "    nt.from_nx(G)\n",
    "\n",
    "    for e in G.edges():\n",
    "        nt.add_edge(e[0],e[1], weight = e,value = e, title = e)\n",
    "\n",
    "    nt.force_atlas_2based()\n",
    "            \n",
    "    \n",
    "    \n",
    "    return nt\n",
    "\n",
    "ona = build_ona(nodes=directory,interactions= meetings,metric = 'ev_centrality',\n",
    "               size_function = lambda x: (x+1)**10)\n",
    "\n",
    "ona.show('final_ona.html')"
   ]
  },
  {
   "cell_type": "markdown",
   "id": "314187e2-a1cd-4344-a97c-fe45d37fbbd2",
   "metadata": {},
   "source": [
    "# Now... what can we do?\n",
    "\n",
    "First of all we can see our organization with a simple graph.\n",
    "\n",
    "But we can also check for some amazing correlations such as:\n",
    "\n",
    "- PageRank and promotion rate\n",
    "- PageRank and Attrition rate\n",
    "\n",
    "Among others"
   ]
  },
  {
   "cell_type": "code",
   "execution_count": 108,
   "id": "94069388-2065-46b1-932b-1d4181d81e96",
   "metadata": {},
   "outputs": [
    {
     "data": {
      "text/html": [
       "<div>\n",
       "<style scoped>\n",
       "    .dataframe tbody tr th:only-of-type {\n",
       "        vertical-align: middle;\n",
       "    }\n",
       "\n",
       "    .dataframe tbody tr th {\n",
       "        vertical-align: top;\n",
       "    }\n",
       "\n",
       "    .dataframe thead th {\n",
       "        text-align: right;\n",
       "    }\n",
       "</style>\n",
       "<table border=\"1\" class=\"dataframe\">\n",
       "  <thead>\n",
       "    <tr style=\"text-align: right;\">\n",
       "      <th></th>\n",
       "      <th>from</th>\n",
       "      <th>to</th>\n",
       "      <th>value</th>\n",
       "    </tr>\n",
       "  </thead>\n",
       "  <tbody>\n",
       "    <tr>\n",
       "      <th>0</th>\n",
       "      <td>Jose</td>\n",
       "      <td>Mateo</td>\n",
       "      <td>10</td>\n",
       "    </tr>\n",
       "    <tr>\n",
       "      <th>1</th>\n",
       "      <td>Jose</td>\n",
       "      <td>Carlos 1</td>\n",
       "      <td>3</td>\n",
       "    </tr>\n",
       "    <tr>\n",
       "      <th>2</th>\n",
       "      <td>Jose</td>\n",
       "      <td>Pablo</td>\n",
       "      <td>15</td>\n",
       "    </tr>\n",
       "    <tr>\n",
       "      <th>3</th>\n",
       "      <td>Jose</td>\n",
       "      <td>Deisy</td>\n",
       "      <td>2</td>\n",
       "    </tr>\n",
       "    <tr>\n",
       "      <th>4</th>\n",
       "      <td>Mateo</td>\n",
       "      <td>Camila</td>\n",
       "      <td>10</td>\n",
       "    </tr>\n",
       "  </tbody>\n",
       "</table>\n",
       "</div>"
      ],
      "text/plain": [
       "    from        to  value\n",
       "0   Jose     Mateo     10\n",
       "1   Jose  Carlos 1      3\n",
       "2   Jose     Pablo     15\n",
       "3   Jose     Deisy      2\n",
       "4  Mateo    Camila     10"
      ]
     },
     "execution_count": 108,
     "metadata": {},
     "output_type": "execute_result"
    }
   ],
   "source": [
    "meetings.head()"
   ]
  },
  {
   "cell_type": "code",
   "execution_count": 111,
   "id": "bb83cb41-0701-4157-bbf2-0c911a30e1e4",
   "metadata": {},
   "outputs": [],
   "source": [
    "from pyvis.network import Network\n",
    "import pandas as pd\n",
    "\n",
    "got_net = Network(height='750px', width='100%', bgcolor='#222222', font_color='white')\n",
    "\n",
    "# set the physics layout of the network\n",
    "got_net.barnes_hut()\n",
    "got_data = pd.read_csv('got_edges.csv').head(100)\n",
    "\n",
    "sources = meetings['from'] #got_data['Source']\n",
    "targets = meetings.to #got_data['Target']\n",
    "weights = meetings.value #got_data['weight']\n",
    "\n",
    "edge_data = zip(sources, targets, weights)\n",
    "\n",
    "for e in edge_data:\n",
    "    src = e[0]\n",
    "    dst = e[1]\n",
    "    w = e[2]\n",
    "\n",
    "    got_net.add_node(src, src, title=src)\n",
    "    got_net.add_node(dst, dst, title=dst)\n",
    "    got_net.add_edge(src, dst, value=w)\n",
    "\n",
    "neighbor_map = got_net.get_adj_list()\n",
    "\n",
    "# add neighbor data to node hover data\n",
    "for node in got_net.nodes:\n",
    "    node['title'] += ' Neighbors:<br>' + '<br>'.join(neighbor_map[node['id']])\n",
    "    node['value'] = len(neighbor_map[node['id']])\n",
    "\n",
    "got_net.show('gameofthrones.html')"
   ]
  }
 ],
 "metadata": {
  "kernelspec": {
   "display_name": "Python 3 (ipykernel)",
   "language": "python",
   "name": "python3"
  },
  "language_info": {
   "codemirror_mode": {
    "name": "ipython",
    "version": 3
   },
   "file_extension": ".py",
   "mimetype": "text/x-python",
   "name": "python",
   "nbconvert_exporter": "python",
   "pygments_lexer": "ipython3",
   "version": "3.10.4"
  }
 },
 "nbformat": 4,
 "nbformat_minor": 5
}
